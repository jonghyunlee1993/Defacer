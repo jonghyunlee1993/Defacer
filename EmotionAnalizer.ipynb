{
 "cells": [
  {
   "cell_type": "code",
   "execution_count": 2,
   "metadata": {
    "collapsed": true
   },
   "outputs": [],
   "source": [
    "from sklearn.preprocessing import LabelEncoder\n",
    "import pandas as pd\n",
    "import numpy as np\n",
    "import os\n",
    "import csv\n",
    "import glob\n",
    "\n",
    "def CountEmotion(file_name):\n",
    "    df = pd.read_excel(file_name, sheet_name=None, header=None)\n",
    "    # print(df)\n",
    "    EmoCate = df.values[:,0]\n",
    "#     label_encoder = LabelEncoder()\n",
    "#     integer_encoded = label_encoder.fit_transform(EmoCate)\n",
    "    # print(integer_encoded)\n",
    "    unique, counts = np.unique(EmoCate, return_counts=True)\n",
    "    result = dict(zip(unique, counts))\n",
    "    return result\n",
    "    "
   ]
  },
  {
   "cell_type": "code",
   "execution_count": 6,
   "metadata": {
    "scrolled": true
   },
   "outputs": [],
   "source": [
    "files = glob.glob('*.xlsx')\n",
    "MyList = []\n",
    "\n",
    "for file in files:\n",
    "    result = CountEmotion(file)\n",
    "    MyList.append(result)\n",
    "\n",
    "Results = pd.DataFrame(MyList)"
   ]
  },
  {
   "cell_type": "code",
   "execution_count": 10,
   "metadata": {},
   "outputs": [],
   "source": [
    "Results.to_csv(\"output.csv\", mode='w')"
   ]
  }
 ],
 "metadata": {
  "kernelspec": {
   "display_name": "Python 3",
   "language": "python",
   "name": "python3"
  },
  "language_info": {
   "codemirror_mode": {
    "name": "ipython",
    "version": 3
   },
   "file_extension": ".py",
   "mimetype": "text/x-python",
   "name": "python",
   "nbconvert_exporter": "python",
   "pygments_lexer": "ipython3",
   "version": "3.6.3"
  }
 },
 "nbformat": 4,
 "nbformat_minor": 2
}
