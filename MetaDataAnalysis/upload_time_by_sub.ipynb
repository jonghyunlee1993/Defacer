{
 "cells": [
  {
   "cell_type": "code",
   "execution_count": 1,
   "metadata": {},
   "outputs": [],
   "source": [
    "import numpy as np\n",
    "import pandas as pd\n",
    "from collections import Counter\n",
    "\n",
    "data_path = \"../data/upload_time.csv\""
   ]
  },
  {
   "cell_type": "code",
   "execution_count": 2,
   "metadata": {},
   "outputs": [
    {
     "data": {
      "text/html": [
       "<div>\n",
       "<style scoped>\n",
       "    .dataframe tbody tr th:only-of-type {\n",
       "        vertical-align: middle;\n",
       "    }\n",
       "\n",
       "    .dataframe tbody tr th {\n",
       "        vertical-align: top;\n",
       "    }\n",
       "\n",
       "    .dataframe thead th {\n",
       "        text-align: right;\n",
       "    }\n",
       "</style>\n",
       "<table border=\"1\" class=\"dataframe\">\n",
       "  <thead>\n",
       "    <tr style=\"text-align: right;\">\n",
       "      <th></th>\n",
       "      <th>Unnamed: 0</th>\n",
       "      <th>Code</th>\n",
       "      <th>Post idx</th>\n",
       "      <th>DOW</th>\n",
       "      <th>Hour</th>\n",
       "      <th>Min</th>\n",
       "    </tr>\n",
       "  </thead>\n",
       "  <tbody>\n",
       "    <tr>\n",
       "      <th>0</th>\n",
       "      <td>0</td>\n",
       "      <td>sns001</td>\n",
       "      <td>0</td>\n",
       "      <td>Sun</td>\n",
       "      <td>21</td>\n",
       "      <td>43</td>\n",
       "    </tr>\n",
       "    <tr>\n",
       "      <th>1</th>\n",
       "      <td>1</td>\n",
       "      <td>sns001</td>\n",
       "      <td>1</td>\n",
       "      <td>Sun</td>\n",
       "      <td>21</td>\n",
       "      <td>43</td>\n",
       "    </tr>\n",
       "    <tr>\n",
       "      <th>2</th>\n",
       "      <td>2</td>\n",
       "      <td>sns001</td>\n",
       "      <td>2</td>\n",
       "      <td>Sun</td>\n",
       "      <td>1</td>\n",
       "      <td>38</td>\n",
       "    </tr>\n",
       "    <tr>\n",
       "      <th>3</th>\n",
       "      <td>3</td>\n",
       "      <td>sns001</td>\n",
       "      <td>3</td>\n",
       "      <td>Sun</td>\n",
       "      <td>1</td>\n",
       "      <td>38</td>\n",
       "    </tr>\n",
       "    <tr>\n",
       "      <th>4</th>\n",
       "      <td>4</td>\n",
       "      <td>sns001</td>\n",
       "      <td>4</td>\n",
       "      <td>Sun</td>\n",
       "      <td>1</td>\n",
       "      <td>38</td>\n",
       "    </tr>\n",
       "  </tbody>\n",
       "</table>\n",
       "</div>"
      ],
      "text/plain": [
       "   Unnamed: 0    Code  Post idx  DOW  Hour  Min\n",
       "0           0  sns001         0  Sun    21   43\n",
       "1           1  sns001         1  Sun    21   43\n",
       "2           2  sns001         2  Sun     1   38\n",
       "3           3  sns001         3  Sun     1   38\n",
       "4           4  sns001         4  Sun     1   38"
      ]
     },
     "execution_count": 2,
     "metadata": {},
     "output_type": "execute_result"
    }
   ],
   "source": [
    "data = pd.read_csv(data_path)\n",
    "data.head()"
   ]
  },
  {
   "cell_type": "code",
   "execution_count": 3,
   "metadata": {},
   "outputs": [
    {
     "name": "stdout",
     "output_type": "stream",
     "text": [
      "['sns001', 'sns002', 'sns004', 'sns005', 'sns007', 'sns009', 'sns010', 'sns011', 'sns012', 'sns013', 'sns015', 'sns016', 'sns018', 'sns020', 'sns021', 'sns022', 'sns023', 'sns024', 'sns025', 'sns026', 'sns028', 'sns029', 'sns030', 'sns031', 'sns032', 'sns034', 'sns035', 'sns038', 'sns041', 'sns042', 'sns043', 'sns044', 'sns045', 'sns046', 'sns048', 'sns049', 'sns050', 'sns051', 'sns054', 'sns055', 'sns056', 'sns058', 'sns059', 'sns060', 'sns061', 'sns062', 'sns063', 'sns064', 'sns065', 'sns066', 'sns067', 'sns068', 'sns069', 'sns070', 'sns071', 'sns072', 'sns073', 'sns074', 'sns075', 'sns076', 'sns077', 'sns078', 'sns079', 'sns080', 'sns081', 'sns082', 'sns083', 'sns084', 'sns085', 'sns086', 'sns087', 'sns088', 'sns089', 'sns090', 'sns091', 'sns092', 'sns093']\n"
     ]
    }
   ],
   "source": [
    "sub_list = data['Code'].unique().tolist()\n",
    "print(sub_list)"
   ]
  },
  {
   "cell_type": "code",
   "execution_count": 4,
   "metadata": {},
   "outputs": [],
   "source": [
    "result = pd.DataFrame(columns = range(24))\n",
    "\n",
    "for sub in sub_list:\n",
    "    sub_res = Counter(data[data['Code'] == sub]['Hour'])\n",
    "    \n",
    "    key = list(sub_res.keys())\n",
    "    val = list(sub_res.values())\n",
    "    \n",
    "    temp = pd.DataFrame(val).T\n",
    "    temp.columns = key\n",
    "    result = result.append(temp)\n",
    "    \n",
    "# #     items = sub_res.items()\n",
    "# #     final = [item[1] for item in sorted(items, key = lambda x: x[0])]\n"
   ]
  },
  {
   "cell_type": "code",
   "execution_count": 5,
   "metadata": {},
   "outputs": [],
   "source": [
    "result[\"Code\"] = sub_list\n",
    "result = result.fillna(0)\n",
    "result.to_csv(\"../data/upload_time_result_by_sub.csv\")"
   ]
  },
  {
   "cell_type": "code",
   "execution_count": null,
   "metadata": {},
   "outputs": [],
   "source": []
  }
 ],
 "metadata": {
  "kernelspec": {
   "display_name": "Python 3",
   "language": "python",
   "name": "python3"
  },
  "language_info": {
   "codemirror_mode": {
    "name": "ipython",
    "version": 3
   },
   "file_extension": ".py",
   "mimetype": "text/x-python",
   "name": "python",
   "nbconvert_exporter": "python",
   "pygments_lexer": "ipython3",
   "version": "3.7.1"
  }
 },
 "nbformat": 4,
 "nbformat_minor": 2
}
