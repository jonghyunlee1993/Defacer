{
 "cells": [
  {
   "cell_type": "code",
   "execution_count": 13,
   "metadata": {},
   "outputs": [],
   "source": [
    "import pandas as pd\n",
    "import numpy as np\n",
    "from scipy import stats"
   ]
  },
  {
   "cell_type": "code",
   "execution_count": 6,
   "metadata": {
    "scrolled": false
   },
   "outputs": [
    {
     "name": "stdout",
     "output_type": "stream",
     "text": [
      "['log((like/image)*(comment/image)*follower))', 'Code', 'Num_comment', 'Num_like', 'Num_follower', 'Num_following', 'Num_image', 'Popularity', 'extraversion', 'agreeableness', 'conscientiousness', 'neuroticism', 'openness', 'social_comparison', 'self_esteem', 'narcissism', 'benign', 'malicious', 'perceived_stress', 'social_phobia', 'social_interaction_anxiety', 'generalized_anxiety_disorder', 'depression', 'social_media_1', 'social_media_2']\n"
     ]
    }
   ],
   "source": [
    "data = pd.read_csv('meta_data_result.csv')\n",
    "# print(data)\n",
    "print(list(data))"
   ]
  },
  {
   "cell_type": "code",
   "execution_count": 8,
   "metadata": {},
   "outputs": [
    {
     "name": "stdout",
     "output_type": "stream",
     "text": [
      "['extraversion', 'agreeableness', 'conscientiousness', 'neuroticism', 'openness', 'social_comparison', 'self_esteem', 'narcissism', 'benign', 'malicious', 'perceived_stress', 'social_phobia', 'social_interaction_anxiety', 'generalized_anxiety_disorder', 'depression', 'social_media_1', 'social_media_2']\n"
     ]
    }
   ],
   "source": [
    "idx = list(data)[8:]\n",
    "print(idx)"
   ]
  },
  {
   "cell_type": "code",
   "execution_count": 28,
   "metadata": {
    "scrolled": true
   },
   "outputs": [
    {
     "name": "stdout",
     "output_type": "stream",
     "text": [
      "                           Index    T-stat   P-value\n",
      "0                   extraversion  0.710475  0.479556\n",
      "1                  agreeableness  0.800366  0.425961\n",
      "2              conscientiousness  2.126080  0.036701\n",
      "3                    neuroticism -0.838997  0.404068\n",
      "4                       openness -0.695212  0.489015\n",
      "5              social_comparison  2.334336  0.022187\n",
      "6                    self_esteem  0.379424  0.705417\n",
      "7                     narcissism  0.051446  0.959103\n",
      "8                         benign  2.148158  0.034845\n",
      "9                      malicious -0.450877  0.653345\n",
      "10              perceived_stress -0.577619  0.565207\n",
      "11                 social_phobia -0.462395  0.645102\n",
      "12    social_interaction_anxiety -0.280510  0.779839\n",
      "13  generalized_anxiety_disorder  0.364941  0.716156\n",
      "14                    depression -0.313162  0.755004\n",
      "15                social_media_1  0.740555  0.461216\n",
      "16                social_media_2  1.012980  0.314242\n"
     ]
    }
   ],
   "source": [
    "final_result = []\n",
    "\n",
    "for temp_idx in idx:\n",
    "    \n",
    "    avg = np.mean(data[temp_idx])\n",
    "    \n",
    "    high_group = data[data[temp_idx] > avg]['Popularity']\n",
    "    low_group = data[data[temp_idx] < avg]['Popularity']\n",
    "    \n",
    "    ttest_result = stats.ttest_ind(high_group, low_group)\n",
    "    temp_result = [temp_idx, ttest_result[0], ttest_result[1]]\n",
    "    final_result.append(temp_result)\n",
    "    \n",
    "final_result = pd.DataFrame(final_result, columns=['Index', 'T-stat', 'P-value'])\n",
    "print(final_result)"
   ]
  },
  {
   "cell_type": "code",
   "execution_count": 29,
   "metadata": {},
   "outputs": [],
   "source": [
    "final_result.to_csv('popularity_t-tests_results.csv')"
   ]
  }
 ],
 "metadata": {
  "kernelspec": {
   "display_name": "Python 3",
   "language": "python",
   "name": "python3"
  },
  "language_info": {
   "codemirror_mode": {
    "name": "ipython",
    "version": 3
   },
   "file_extension": ".py",
   "mimetype": "text/x-python",
   "name": "python",
   "nbconvert_exporter": "python",
   "pygments_lexer": "ipython3",
   "version": "3.7.3"
  }
 },
 "nbformat": 4,
 "nbformat_minor": 2
}
