{
 "cells": [
  {
   "cell_type": "code",
   "execution_count": 9,
   "metadata": {},
   "outputs": [],
   "source": [
    "import os\n",
    "import csv\n",
    "import json\n",
    "from pprint import pprint\n",
    "\n",
    "def get_files(path, keyword):\n",
    "    files = [f for f in os.listdir() if f.find(keyword) != -1]\n",
    "    \n",
    "    return files\n",
    "\n",
    "def read_json(file):\n",
    "    with open(file, 'rt', encoding='UTF-8') as data_file:\n",
    "        data = json.load(data_file)\n",
    "        \n",
    "    return data\n",
    "\n",
    "def cal_follow(data):\n",
    "    follower = len(data['followers'])\n",
    "    following  = len(data['following'])\n",
    "    ff_rate = follower/following\n",
    "    results = [follower, following, ff_rate]\n",
    "    \n",
    "    return results\n",
    "\n",
    "def save_results(ind, file, results):\n",
    "    sub = file[0:6]\n",
    "    final = [sub, results]\n",
    "    with open('ff_rate.csv', 'a', newline='') as f:\n",
    "        writer = csv.writer(f)\n",
    "        if ind == 0:\n",
    "            header = ['Code', 'Follower', 'Following', 'FF_Rate']\n",
    "            writer.writerow(header)\n",
    "            \n",
    "        writer.writerow(final)"
   ]
  },
  {
   "cell_type": "code",
   "execution_count": 10,
   "metadata": {},
   "outputs": [],
   "source": [
    "files = get_files(os.getcwd(), 'sns')\n",
    "\n",
    "for ind, file in enumerate(files):\n",
    "    data = read_json(file)\n",
    "    results = cal_follow(data)\n",
    "    save_results(ind, file, results)"
   ]
  }
 ],
 "metadata": {
  "kernelspec": {
   "display_name": "Python 3",
   "language": "python",
   "name": "python3"
  },
  "language_info": {
   "codemirror_mode": {
    "name": "ipython",
    "version": 3
   },
   "file_extension": ".py",
   "mimetype": "text/x-python",
   "name": "python",
   "nbconvert_exporter": "python",
   "pygments_lexer": "ipython3",
   "version": "3.6.3"
  }
 },
 "nbformat": 4,
 "nbformat_minor": 2
}
