{
 "cells": [
  {
   "cell_type": "code",
   "execution_count": 6,
   "metadata": {
    "collapsed": true
   },
   "outputs": [],
   "source": [
    "import pandas as pd\n",
    "import numpy as np\n",
    "import os\n",
    "import glob\n",
    "\n",
    "dir_data = 'H:/PixelValues/'\n",
    "dir_save = 'H:/'\n",
    "\n",
    "files = glob.glob(dir_data + 'Pixel*.csv')\n",
    "results_holder = []\n",
    "\n",
    "for file in files:\n",
    "    sub_data = pd.read_csv(file)\n",
    "    results = np.mean(sub_data)\n",
    "    results_holder.append(results)\n",
    "    \n",
    "output = pd.DataFrame(results_holder)\n",
    "output.to_csv(dir_save + \"PixelValue.csv\", mode='a', header=True)"
   ]
  },
  {
   "cell_type": "code",
   "execution_count": 2,
   "metadata": {},
   "outputs": [],
   "source": [
    "import pandas as pd\n",
    "import numpy as np\n",
    "import os\n",
    "import glob\n",
    "\n",
    "dir_data = 'H:/PixelValues/'\n",
    "dir_save = 'H:/'\n",
    "\n",
    "files = glob.glob(dir_data + 'Pixel*.csv')\n",
    "sub_data = pd.read_csv(files[0])"
   ]
  },
  {
   "cell_type": "code",
   "execution_count": 4,
   "metadata": {},
   "outputs": [
    {
     "name": "stdout",
     "output_type": "stream",
     "text": [
      "R_mean      129.024326\n",
      "R_var      4213.531592\n",
      "G_mean      105.218822\n",
      "G_var      3988.702269\n",
      "B_mean       84.063764\n",
      "B_var      4025.093914\n",
      "H_peaks      22.739508\n",
      "S_mean      117.391772\n",
      "S_var      4521.787290\n",
      "V_mean      133.454762\n",
      " V_var     4150.237151\n",
      "dtype: float64\n"
     ]
    }
   ],
   "source": [
    "sub_data\n",
    "print(np.mean(sub_data))"
   ]
  }
 ],
 "metadata": {
  "kernelspec": {
   "display_name": "Python 3",
   "language": "python",
   "name": "python3"
  },
  "language_info": {
   "codemirror_mode": {
    "name": "ipython",
    "version": 3
   },
   "file_extension": ".py",
   "mimetype": "text/x-python",
   "name": "python",
   "nbconvert_exporter": "python",
   "pygments_lexer": "ipython3",
   "version": "3.6.3"
  }
 },
 "nbformat": 4,
 "nbformat_minor": 2
}
