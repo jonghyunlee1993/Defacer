{
 "cells": [
  {
   "cell_type": "code",
   "execution_count": 12,
   "metadata": {},
   "outputs": [],
   "source": [
    "import os\n",
    "import shutil"
   ]
  },
  {
   "cell_type": "code",
   "execution_count": 7,
   "metadata": {
    "scrolled": true
   },
   "outputs": [
    {
     "name": "stdout",
     "output_type": "stream",
     "text": [
      "['sns001_황지영_1219_연세대', 'sns002_김효정_1214_연세대', 'sns003_김남식_1213_연세대', 'sns004_김수아_1219_연세대', 'sns005_황은혜_1219_연세대', 'sns006_신재희_1214_연세대', 'sns007_최민욱_1226', 'sns008_송영균_0108', 'sns009_정재현_0107_고려대', 'sns010_김민주_0107_고려대', 'sns011_이지은_0107_고려대', 'sns012_이지민_0102_고려대', 'sns013_송주희_0103_연세대', 'sns014_최준석_0107_고려대', 'sns015_송예지_0102_고려대', 'sns016_성예림_0107_고려대', 'sns017_한지원_0107_고려대', 'sns018_안영진_0109_고려대', 'sns019_김지은_0103', 'sns020_박지원_1231', 'sns021_장하영_0103_연세대', 'sns022_윤정윤_0102_고려대', 'sns023_장운_1230', 'sns024_정요한_0103_연세대', 'sns025_홍미연_0109_고려대', 'sns026_남승민_0102_고려대', 'sns028_이주현_0102_고려대', 'sns029_이혜정_0102_고려대', 'sns030_김민석_0108_경희대', 'sns031_이이슬_0108_경희대', 'sns032_박정은_0109_고려대', 'sns034_이소현_0102_고려대', 'sns035_이희주_0104_건국대', 'sns038_조제인_0103_연세대', 'sns039(NA)', 'sns041_여주경_0107', 'sns042_김경민_0104', 'sns043_김지담_0107_고려대', 'sns044_이이지_0108_경희대', 'sns045_추일범_0109_고려대', 'sns046_최혜인_0107_고려대', 'sns048_박윤우_0125_고려대', 'sns049_오다연_0123_고려대', 'sns050_윤진주_0123_고려대', 'sns051_김다솔_0123_고려대', 'sns053_이하은_0123_고려대', 'sns054_권혜지_0123_고려대', 'sns055_장영덕_0130', 'sns056_임재현_0128', 'sns058_권혜리_0130_고려대', 'sns059_조은경_0130_고려대', 'sns060_김수경_0130_고려대', 'sns061_이지은_0130_고려대', 'sns062_김윤희_0130_고려대', 'sns063_박꽃이슬_0130', 'sns064', 'sns065', 'sns066_이세영_0411_고려대', 'sns067_신지영_0411_고려대', 'sns068_홍지수_0411_고려대', 'sns069_구현진', 'sns070_남예지', 'sns071_한서희', 'sns072_이정민', 'sns073_석연우', 'sns074_윤나은', 'sns075_원서연', 'sns076_유예진', 'sns077_유은정', 'sns078_강도균', 'sns079_박에녹', 'sns080_김지영', 'sns081_김보미', 'sns082_류하은', 'sns083_곽민규', 'sns084_이은주', 'sns085_박진우', 'sns086_류진선', 'sns087_김상우_0418_고려대', 'sns088_박성표_0412_고려대', 'sns089_신소렬_0418_고려대', 'sns090_정유진_0418_고려대', 'sns091_황예본_0412_고려대', 'sns092_김하은', 'sns093_박도윤']\n"
     ]
    }
   ],
   "source": [
    "dir_list = os.listdir()\n",
    "dir_list = dir_list[1:-1]\n",
    "print(dir_list)"
   ]
  },
  {
   "cell_type": "code",
   "execution_count": 11,
   "metadata": {},
   "outputs": [],
   "source": [
    "for folder in dir_list:\n",
    "    os.rename(folder, folder[0:6])b"
   ]
  },
  {
   "cell_type": "code",
   "execution_count": 65,
   "metadata": {
    "scrolled": false
   },
   "outputs": [
    {
     "name": "stdout",
     "output_type": "stream",
     "text": [
      "D:\\SNS_raw\\sns001\n",
      "D:\\SNS_raw\\sns002\n",
      "D:\\SNS_raw\\sns003\n",
      "D:\\SNS_raw\\sns004\n",
      "D:\\SNS_raw\\sns005\n",
      "D:\\SNS_raw\\sns006\n",
      "D:\\SNS_raw\\sns007\n",
      "D:\\SNS_raw\\sns008\n",
      "D:\\SNS_raw\\sns009\n",
      "D:\\SNS_raw\\sns010\n",
      "D:\\SNS_raw\\sns011\n",
      "D:\\SNS_raw\\sns012\n",
      "D:\\SNS_raw\\sns013\n",
      "D:\\SNS_raw\\sns014\n",
      "D:\\SNS_raw\\sns015\n",
      "D:\\SNS_raw\\sns016\n",
      "D:\\SNS_raw\\sns017\n",
      "D:\\SNS_raw\\sns018\n",
      "D:\\SNS_raw\\sns019\n",
      "D:\\SNS_raw\\sns020\n",
      "D:\\SNS_raw\\sns021\n",
      "D:\\SNS_raw\\sns022\n",
      "D:\\SNS_raw\\sns023\n",
      "D:\\SNS_raw\\sns024\n",
      "D:\\SNS_raw\\sns025\n",
      "D:\\SNS_raw\\sns026\n",
      "D:\\SNS_raw\\sns028\n",
      "D:\\SNS_raw\\sns029\n",
      "D:\\SNS_raw\\sns030\n",
      "D:\\SNS_raw\\sns031\n",
      "D:\\SNS_raw\\sns032\n",
      "D:\\SNS_raw\\sns034\n",
      "D:\\SNS_raw\\sns035\n",
      "D:\\SNS_raw\\sns038\n",
      "D:\\SNS_raw\\sns039\n",
      "D:\\SNS_raw\\sns041\n",
      "D:\\SNS_raw\\sns042\n",
      "D:\\SNS_raw\\sns043\n",
      "D:\\SNS_raw\\sns044\n",
      "D:\\SNS_raw\\sns045\n",
      "D:\\SNS_raw\\sns046\n",
      "D:\\SNS_raw\\sns048\n",
      "D:\\SNS_raw\\sns049\n",
      "D:\\SNS_raw\\sns050\n",
      "D:\\SNS_raw\\sns051\n",
      "D:\\SNS_raw\\sns053\n",
      "D:\\SNS_raw\\sns054\n",
      "D:\\SNS_raw\\sns055\n",
      "D:\\SNS_raw\\sns056\n",
      "D:\\SNS_raw\\sns058\n",
      "D:\\SNS_raw\\sns059\n",
      "D:\\SNS_raw\\sns060\n",
      "D:\\SNS_raw\\sns061\n",
      "D:\\SNS_raw\\sns062\n",
      "D:\\SNS_raw\\sns063\n",
      "D:\\SNS_raw\\sns064\n",
      "D:\\SNS_raw\\sns065\n",
      "D:\\SNS_raw\\sns066\n",
      "D:\\SNS_raw\\sns067\n",
      "D:\\SNS_raw\\sns068\n",
      "D:\\SNS_raw\\sns069\n",
      "D:\\SNS_raw\\sns070\n",
      "D:\\SNS_raw\\sns071\n",
      "D:\\SNS_raw\\sns072\n",
      "D:\\SNS_raw\\sns073\n",
      "D:\\SNS_raw\\sns074\n",
      "D:\\SNS_raw\\sns075\n",
      "D:\\SNS_raw\\sns076\n",
      "D:\\SNS_raw\\sns077\n",
      "D:\\SNS_raw\\sns078\n",
      "D:\\SNS_raw\\sns079\n",
      "D:\\SNS_raw\\sns080\n",
      "D:\\SNS_raw\\sns081\n",
      "D:\\SNS_raw\\sns082\n",
      "D:\\SNS_raw\\sns083\n",
      "D:\\SNS_raw\\sns084\n",
      "D:\\SNS_raw\\sns085\n",
      "D:\\SNS_raw\\sns086\n",
      "D:\\SNS_raw\\sns087\n",
      "D:\\SNS_raw\\sns088\n",
      "D:\\SNS_raw\\sns089\n",
      "D:\\SNS_raw\\sns090\n",
      "D:\\SNS_raw\\sns091\n",
      "D:\\SNS_raw\\sns092\n",
      "D:\\SNS_raw\\sns093\n"
     ]
    }
   ],
   "source": [
    "my_path = r'D:\\SNS_raw'\n",
    "os.chdir(my_path)\n",
    "\n",
    "sns_list = os.listdir()\n",
    "sns_list = sns_list[2:]\n",
    "\n",
    "for sub in sns_list:\n",
    "    sub_path = os.path.join(my_path, sub)\n",
    "    print(sub_path)\n",
    "    for (path, dir, files) in os.walk(sub_path):\n",
    "       \n",
    "        for filename in files:\n",
    "            fname = os.path.splitext(filename)[0]\n",
    "            ext = os.path.splitext(filename)[-1]\n",
    "            \n",
    "            if ext == '.json':\n",
    "                \n",
    "                new_name = fname + '_' + sub + '.json'\n",
    "                \n",
    "                if not os.path.isfile(os.path.join(sub_path, new_name)):\n",
    "                    shutil.copy2(os.path.join(path, filename), os.path.join(sub_path, new_name))\n",
    "                \n",
    "                else:\n",
    "                    new_name_2 = fname + '_' + sub + '_2.json'\n",
    "                    \n",
    "                    if os.path.isfile(os.path.join(sub_path, new_name_2)):\n",
    "                        new_name_2 = fname + '_' + sub + '_3.json'\n",
    "                        shutil.copy2(os.path.join(path, filename), os.path.join(sub_path, new_name_3))\n",
    "                        \n",
    "                    shutil.copy2(os.path.join(path, filename), os.path.join(sub_path, new_name_2))"
   ]
  }
 ],
 "metadata": {
  "kernelspec": {
   "display_name": "Python 3",
   "language": "python",
   "name": "python3"
  },
  "language_info": {
   "codemirror_mode": {
    "name": "ipython",
    "version": 3
   },
   "file_extension": ".py",
   "mimetype": "text/x-python",
   "name": "python",
   "nbconvert_exporter": "python",
   "pygments_lexer": "ipython3",
   "version": "3.7.3"
  }
 },
 "nbformat": 4,
 "nbformat_minor": 2
}
